{
 "cells": [
  {
   "cell_type": "code",
   "execution_count": 1,
   "id": "e76c9e03",
   "metadata": {},
   "outputs": [],
   "source": [
    "from matplotlib import pyplot as plt\n",
    "import seaborn as sns\n",
    "import pandas as pd"
   ]
  },
  {
   "cell_type": "code",
   "execution_count": 2,
   "id": "8e94c263",
   "metadata": {},
   "outputs": [],
   "source": [
    "def calculate(start_amount, roi, years, reinvest_amount):\n",
    "    year = [x for x in range(years*12+1)]\n",
    "    inv = [start_amount]\n",
    "    temp = start_amount\n",
    "    for x in range(years*12):\n",
    "        temp += reinvest_amount\n",
    "        inv.append(temp)\n",
    "        \n",
    "    sv = [start_amount]\n",
    "    temp = start_amount\n",
    "    for y in range(len(inv)-1):\n",
    "        temp += sv[y]*roi + reinvest_amount\n",
    "        sv.append(round(temp,2))\n",
    "        \n",
    "    ad = [round(sv*roi*12, 2) for sv in sv]\n",
    "    m = [round(ad/12, 2) for ad in ad]\n",
    "    df = pd.DataFrame(data={\"month\":year, \"invested\":inv, \"stock value\":sv, \n",
    "                            \"monthly returns\":m})\n",
    "    return df"
   ]
  },
  {
   "cell_type": "code",
   "execution_count": 180,
   "id": "c5cc92ee",
   "metadata": {},
   "outputs": [],
   "source": [
    "def viz(df):\n",
    "    plt.figure(figsize=(8, 6))\n",
    "    plt.style.use([\"dark_background\"])\n",
    "    plt.plot(df[\"year\"], df[\"stock value\"], marker=\"o\")\n",
    "    plt.plot(df[\"year\"], df[\"annual returns\"], marker=\"o\")\n",
    "    plt.xticks(df[\"year\"])\n",
    "    plt.yticks([df.iloc[len(df)-1, 2]/10*x for x in range(len(df))])\n",
    "    plt.grid(axis=\"y\")\n",
    "    plt.legend([\"stock value\", \"annual returns\"])"
   ]
  },
  {
   "cell_type": "code",
   "execution_count": 2,
   "id": "6243230b",
   "metadata": {},
   "outputs": [],
   "source": [
    "def cagr(initial, end, time):\n",
    "    return ((end/initial)**(1/time))-1"
   ]
  },
  {
   "cell_type": "code",
   "execution_count": 5,
   "id": "3d37fa3d",
   "metadata": {},
   "outputs": [
    {
     "data": {
      "text/plain": [
       "0.5555067070992215"
      ]
     },
     "execution_count": 5,
     "metadata": {},
     "output_type": "execute_result"
    }
   ],
   "source": [
    "cagr(75, 683, 5)"
   ]
  },
  {
   "cell_type": "code",
   "execution_count": 8,
   "id": "b151393c",
   "metadata": {},
   "outputs": [
    {
     "data": {
      "text/html": [
       "<div>\n",
       "<style scoped>\n",
       "    .dataframe tbody tr th:only-of-type {\n",
       "        vertical-align: middle;\n",
       "    }\n",
       "\n",
       "    .dataframe tbody tr th {\n",
       "        vertical-align: top;\n",
       "    }\n",
       "\n",
       "    .dataframe thead th {\n",
       "        text-align: right;\n",
       "    }\n",
       "</style>\n",
       "<table border=\"1\" class=\"dataframe\">\n",
       "  <thead>\n",
       "    <tr style=\"text-align: right;\">\n",
       "      <th></th>\n",
       "      <th>month</th>\n",
       "      <th>invested</th>\n",
       "      <th>stock value</th>\n",
       "      <th>monthly returns</th>\n",
       "    </tr>\n",
       "  </thead>\n",
       "  <tbody>\n",
       "    <tr>\n",
       "      <th>291</th>\n",
       "      <td>291</td>\n",
       "      <td>58650</td>\n",
       "      <td>3314805.69</td>\n",
       "      <td>66296.11</td>\n",
       "    </tr>\n",
       "    <tr>\n",
       "      <th>292</th>\n",
       "      <td>292</td>\n",
       "      <td>58850</td>\n",
       "      <td>3381301.80</td>\n",
       "      <td>67626.04</td>\n",
       "    </tr>\n",
       "    <tr>\n",
       "      <th>293</th>\n",
       "      <td>293</td>\n",
       "      <td>59050</td>\n",
       "      <td>3449127.84</td>\n",
       "      <td>68982.56</td>\n",
       "    </tr>\n",
       "    <tr>\n",
       "      <th>294</th>\n",
       "      <td>294</td>\n",
       "      <td>59250</td>\n",
       "      <td>3518310.39</td>\n",
       "      <td>70366.21</td>\n",
       "    </tr>\n",
       "    <tr>\n",
       "      <th>295</th>\n",
       "      <td>295</td>\n",
       "      <td>59450</td>\n",
       "      <td>3588876.60</td>\n",
       "      <td>71777.53</td>\n",
       "    </tr>\n",
       "    <tr>\n",
       "      <th>296</th>\n",
       "      <td>296</td>\n",
       "      <td>59650</td>\n",
       "      <td>3660854.13</td>\n",
       "      <td>73217.08</td>\n",
       "    </tr>\n",
       "    <tr>\n",
       "      <th>297</th>\n",
       "      <td>297</td>\n",
       "      <td>59850</td>\n",
       "      <td>3734271.22</td>\n",
       "      <td>74685.42</td>\n",
       "    </tr>\n",
       "    <tr>\n",
       "      <th>298</th>\n",
       "      <td>298</td>\n",
       "      <td>60050</td>\n",
       "      <td>3809156.64</td>\n",
       "      <td>76183.13</td>\n",
       "    </tr>\n",
       "    <tr>\n",
       "      <th>299</th>\n",
       "      <td>299</td>\n",
       "      <td>60250</td>\n",
       "      <td>3885539.77</td>\n",
       "      <td>77710.79</td>\n",
       "    </tr>\n",
       "    <tr>\n",
       "      <th>300</th>\n",
       "      <td>300</td>\n",
       "      <td>60450</td>\n",
       "      <td>3963450.57</td>\n",
       "      <td>79269.01</td>\n",
       "    </tr>\n",
       "  </tbody>\n",
       "</table>\n",
       "</div>"
      ],
      "text/plain": [
       "     month  invested  stock value  monthly returns\n",
       "291    291     58650   3314805.69         66296.11\n",
       "292    292     58850   3381301.80         67626.04\n",
       "293    293     59050   3449127.84         68982.56\n",
       "294    294     59250   3518310.39         70366.21\n",
       "295    295     59450   3588876.60         71777.53\n",
       "296    296     59650   3660854.13         73217.08\n",
       "297    297     59850   3734271.22         74685.42\n",
       "298    298     60050   3809156.64         76183.13\n",
       "299    299     60250   3885539.77         77710.79\n",
       "300    300     60450   3963450.57         79269.01"
      ]
     },
     "execution_count": 8,
     "metadata": {},
     "output_type": "execute_result"
    }
   ],
   "source": [
    "df = calculate(450, .02, 25, 200)\n",
    "df.tail(10)"
   ]
  },
  {
   "cell_type": "code",
   "execution_count": 214,
   "id": "68b4e116",
   "metadata": {},
   "outputs": [
    {
     "data": {
      "image/png": "[encoded data removed]",
      "text/plain": [
       "<Figure size 576x432 with 1 Axes>"
      ]
     },
     "metadata": {},
     "output_type": "display_data"
    }
   ],
   "source": [
    "viz(df)"
   ]
  }
 ],
 "metadata": {
  "kernelspec": {
   "display_name": "Python 3 (ipykernel)",
   "language": "python",
   "name": "python3"
  },
  "language_info": {
   "codemirror_mode": {
    "name": "ipython",
    "version": 3
   },
   "file_extension": ".py",
   "mimetype": "text/x-python",
   "name": "python",
   "nbconvert_exporter": "python",
   "pygments_lexer": "ipython3",
   "version": "3.9.7"
  }
 },
 "nbformat": 4,
 "nbformat_minor": 5
}
